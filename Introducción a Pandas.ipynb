{
 "cells": [
  {
   "cell_type": "markdown",
   "metadata": {},
   "source": [
    "# Introducción a Pandas en Python 🐼📊\n",
    "\n",
    "[![Python](https://img.shields.io/badge/Python-yellow?style=for-the-badge&logo=python&logoColor=white&labelColor=101010)]()"
   ]
  },
  {
   "cell_type": "markdown",
   "metadata": {},
   "source": [
    "### ¿Qué es Pandas?\n",
    "\n",
    "Pandas es una librería de Python diseñada para facilitar la manipulación y el analísis de datos. Sus estructuras nos recuerdan a las de una hoja de cálculo con las cuales podremos realizar múltiples operaciones como el filtrado de datos, operaciones, o búsqueda de patrones que nos permitirán trabajar con los datos de forma más rápida, eficiente en tiempo/recursos y sencilla."
   ]
  },
  {
   "cell_type": "code",
   "execution_count": 34,
   "metadata": {},
   "outputs": [],
   "source": [
    "#--- Importación de librerías ---#\n",
    "import pandas as pd #<--- Asignación de un alias para llamar a la librería en el código más fácilmente\n",
    "import numpy as np #<--- Asignación de un alias para llamar a la librería en el código más fácilmente"
   ]
  },
  {
   "cell_type": "markdown",
   "metadata": {},
   "source": [
    "# Tipos de datos en Pandas 📈"
   ]
  },
  {
   "cell_type": "markdown",
   "metadata": {},
   "source": [
    "### Pandas Series 📋\n",
    "\n",
    "Una Serie es una secuencia de datos que puede contener cualquier tipo de valor, como números, texto, booleanos, entre otros. Cada elemento en una Serie tiene un índice, que es como una etiqueta que puedes usar para encontrar ese dato específico. Recuerda mucho a las listas de Python pero con más funciones y optimizada para trabajar con datos más eficientemente, así como estar diseñada para poder interactuar más directamente con las demás estructuras de datos de Pandas.\n"
   ]
  },
  {
   "cell_type": "code",
   "execution_count": 35,
   "metadata": {},
   "outputs": [
    {
     "name": "stdout",
     "output_type": "stream",
     "text": [
      "0    manzana\n",
      "1     banana\n",
      "2     cereza\n",
      "3      dátil\n",
      "4        uva\n",
      "dtype: object\n"
     ]
    }
   ],
   "source": [
    "# <--- Un Pandas Series es un array unidimensional que puede contener cualquier tipo de datos\n",
    "\n",
    "# --- Creación de un Pandas Series a partir de una lista ---#\n",
    "# <--- En este caso se crea un Pandas Series con una lista de letras\n",
    "fruta = pd.Series([\"manzana\", \"banana\", \"cereza\", \"dátil\", \"uva\"]) # <--- Creación de un Pandas Series\n",
    "print(fruta) # <--- Imprime el Pandas Series\n"
   ]
  },
  {
   "cell_type": "code",
   "execution_count": 36,
   "metadata": {},
   "outputs": [
    {
     "name": "stdout",
     "output_type": "stream",
     "text": [
      "a    manzana\n",
      "b     banana\n",
      "c     cereza\n",
      "d      dátil\n",
      "e        uva\n",
      "dtype: object\n"
     ]
    }
   ],
   "source": [
    "\n",
    "# --- Creación de un Pandas Series a partir de un diccionario ---#\n",
    "# <--- En este caso se crea un Pandas Series con un diccionario\n",
    "fruta_dic = pd.Series({\"a\": \"manzana\", \"b\": \"banana\", \"c\": \"cereza\", \"d\": \"dátil\", \"e\": \"uva\"}) # <--- Creación de un Pandas Series\n",
    "print(fruta_dic) # <--- Imprime el Pandas Series\n"
   ]
  },
  {
   "cell_type": "code",
   "execution_count": 37,
   "metadata": {},
   "outputs": [
    {
     "name": "stdout",
     "output_type": "stream",
     "text": [
      "Llamada a través de índice, caso más común: manzana\n",
      "\n",
      "\n",
      "Llamada a través de índice, caso particular: manzana\n"
     ]
    }
   ],
   "source": [
    "# Llamar a un elemento del Pandas Series a través de su índice\n",
    "print(\"Llamada a través de índice, caso más común: \" + fruta.iloc[0]) # <--- Imprime el valor asociado al índice 0 del Pandas Series creado a partir\n",
    "                                                                      # de una lista\n",
    "\n",
    "\n",
    "print(\"\\n\\nLlamada a través de índice, caso particular: \" + fruta_dic[\"a\"]) # <--- Imprime el valor asociado al índice \"a\" del Pandas Series\n",
    "                                                                            # creado a partir de un diccionario"
   ]
  },
  {
   "cell_type": "code",
   "execution_count": 38,
   "metadata": {},
   "outputs": [
    {
     "name": "stdout",
     "output_type": "stream",
     "text": [
      "5\n"
     ]
    }
   ],
   "source": [
    "#--- Atributo size ---#\n",
    "print(fruta.size) # <--- Imprime el número de elementos del Pandas Series"
   ]
  },
  {
   "cell_type": "code",
   "execution_count": 50,
   "metadata": {},
   "outputs": [
    {
     "name": "stdout",
     "output_type": "stream",
     "text": [
      "Indice caso común:  RangeIndex(start=0, stop=5, step=1)\n",
      "\n",
      "\n",
      "Indice caso particular: Index(['a', 'b', 'c', 'd', 'e'], dtype='object')\n"
     ]
    }
   ],
   "source": [
    "#--- Atributo index ---#\n",
    "print(\"Indice caso común: \", fruta.index) # <--- Imprime los índices del Pandas Series\n",
    "\n",
    "\n",
    "print(\"\\n\\nIndice caso particular:\", fruta_dic.index) # <--- Imprime los índices del Pandas Series"
   ]
  },
  {
   "cell_type": "code",
   "execution_count": 52,
   "metadata": {},
   "outputs": [
    {
     "name": "stdout",
     "output_type": "stream",
     "text": [
      "Tipos de datos en fruta:  object\n"
     ]
    }
   ],
   "source": [
    "#--- Atributo dtype ---#\n",
    "print(\"Tipos de datos en fruta: \", fruta.dtype) # <--- Imprime el tipo de datos del Pandas Series\n",
    "\n"
   ]
  },
  {
   "cell_type": "code",
   "execution_count": 54,
   "metadata": {},
   "outputs": [
    {
     "name": "stdout",
     "output_type": "stream",
     "text": [
      "Tipos de datos en numeros:  int64\n"
     ]
    }
   ],
   "source": [
    "# Creación de un Pandas Series con solo datos numéricos\t\n",
    "numeros = pd.Series([1, 2, 3, 4, 5]) # <--- Creación de un Pandas Series con una lista de números\n",
    "\n",
    "# Imprimir su tipo de datos\n",
    "print(\"Tipos de datos en numeros: \", numeros.dtype) # <--- Imprime el tipo de datos del Pandas Series"
   ]
  },
  {
   "cell_type": "code",
   "execution_count": 60,
   "metadata": {},
   "outputs": [
    {
     "name": "stdout",
     "output_type": "stream",
     "text": [
      "manzana \n",
      "\n",
      "\n",
      "0    manzana\n",
      "1     banana\n",
      "2     cereza\n",
      "dtype: object\n"
     ]
    }
   ],
   "source": [
    "fruta = pd.Series([\"manzana\", \"banana\", \"cereza\", \"dátil\", \"uva\"]) # <--- Creación de un Pandas Series\n",
    "\n",
    "# Selección de elementos de un Pandas Series\n",
    "print(fruta.iloc[0], \"\\n\\n\") # <--- Imprime el valor asociado al índice 0 del Pandas Series\n",
    "\n",
    "print(fruta.iloc[0:3]) # <--- Imprime los valores asociados a los índices 0, 1 y 2 del Pandas Series como un rango\n",
    "# NOTESE QUE EL ÚLTIMO ÍNDICE NO SE INCLUYE"
   ]
  },
  {
   "cell_type": "code",
   "execution_count": null,
   "metadata": {},
   "outputs": [],
   "source": []
  }
 ],
 "metadata": {
  "kernelspec": {
   "display_name": "Python 3",
   "language": "python",
   "name": "python3"
  },
  "language_info": {
   "codemirror_mode": {
    "name": "ipython",
    "version": 3
   },
   "file_extension": ".py",
   "mimetype": "text/x-python",
   "name": "python",
   "nbconvert_exporter": "python",
   "pygments_lexer": "ipython3",
   "version": "3.12.2"
  }
 },
 "nbformat": 4,
 "nbformat_minor": 2
}
