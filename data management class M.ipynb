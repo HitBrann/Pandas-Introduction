{
 "cells": [
  {
   "cell_type": "code",
   "execution_count": 2,
   "metadata": {},
   "outputs": [],
   "source": [
    "# Generar clase abstracta\n",
    "from abc import ABC, abstractmethod\n",
    "\n",
    "class FiguraGeometrica(ABC):\n",
    "    @abstractmethod\n",
    "    def calcular_area(self):\n",
    "        pass"
   ]
  },
  {
   "cell_type": "code",
   "execution_count": 3,
   "metadata": {},
   "outputs": [],
   "source": [
    "# Interfaz para implementar la clase\n",
    "class Cuadarado(FiguraGeometrica):\n",
    "    def __init__(self, lado):\n",
    "        self.lado = lado\n",
    "\n",
    "    def calcular_area(self):\n",
    "        return self.lado * self.lado\n"
   ]
  },
  {
   "cell_type": "markdown",
   "metadata": {},
   "source": [
    "Supongamos que estamos modelando la preparación de alimentos y queremos utilizar interfaces y clases abstractas para representar diferentes tipos de ingredientes y métodos de preparación."
   ]
  },
  {
   "cell_type": "code",
   "execution_count": 5,
   "metadata": {},
   "outputs": [],
   "source": [
    "# Supongamos que estamos modelando la preparación de alimentos y queremos utilizar interfaces y clases abstractas para representar diferentes tipos de ingredientes y métodos de preparación.\n",
    "class Ingrediente(ABC):\n",
    "    @abstractmethod\n",
    "    def preparar(self):\n",
    "        pass\n",
    "\n",
    "class Utensilio(ABC):\n",
    "    @abstractmethod\n",
    "    def usar(self):\n",
    "        pass\n",
    "\n",
    "\n",
    "\n",
    "class Verdura(Ingrediente):\n",
    "    def preparar(self):\n",
    "        print(\"Lavar y picar\")\n",
    "\n",
    "class Carne(Ingrediente):\n",
    "    def preparar(self):\n",
    "        print(\"Cocinar\")"
   ]
  },
  {
   "cell_type": "code",
   "execution_count": 6,
   "metadata": {},
   "outputs": [
    {
     "name": "stdout",
     "output_type": "stream",
     "text": [
      "Atajar\n",
      "Rodar\n",
      "Revisar\n"
     ]
    }
   ],
   "source": [
    "from abc import ABC, abstractmethod\n",
    "@abstractmethod\n",
    "# Clase abstracta\n",
    "class Jugador(ABC):\n",
    "    def __init__(self, nombre):\n",
    "        self.nombre = nombre\n",
    "\n",
    "    @abstractmethod\n",
    "    def tirar(self):\n",
    "        pass\n",
    "\n",
    "class balón(ABC):\n",
    "    @abstractmethod\n",
    "    def rodar(self):\n",
    "        pass\n",
    "\n",
    "class arbitro(ABC):\n",
    "    @abstractmethod\n",
    "    def pitar(self):\n",
    "        pass\n",
    "\n",
    "class Portero(Jugador):\n",
    "    def tirar(self):\n",
    "        print(\"Atajar\")\n",
    "\n",
    "class yabulani(balón):\n",
    "    def rodar(self):\n",
    "        print(\"Rodar\")\n",
    "\n",
    "class VAR(arbitro):\n",
    "    def pitar(self):\n",
    "        print(\"Revisar\")\n",
    "\n",
    "# instanciar\n",
    "portero = Portero(\"Ochoa\")\n",
    "portero.tirar()\n",
    "yabulani = yabulani()\n",
    "yabulani.rodar()\n",
    "var = VAR()\n",
    "var.pitar()\n",
    "\n",
    "\n",
    "for i in range(200):\n",
    "    for j in range(100):\n",
    "        print((i * j) / 2)\n",
    "\n"
   ]
  }
 ],
 "metadata": {
  "kernelspec": {
   "display_name": "Python 3",
   "language": "python",
   "name": "python3"
  },
  "language_info": {
   "codemirror_mode": {
    "name": "ipython",
    "version": 3
   },
   "file_extension": ".py",
   "mimetype": "text/x-python",
   "name": "python",
   "nbconvert_exporter": "python",
   "pygments_lexer": "ipython3",
   "version": "3.12.2"
  }
 },
 "nbformat": 4,
 "nbformat_minor": 2
}
